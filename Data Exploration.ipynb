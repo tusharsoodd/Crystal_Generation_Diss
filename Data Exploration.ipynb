{
 "cells": [
  {
   "cell_type": "code",
   "execution_count": null,
   "id": "9d98ec7e-04bb-43cd-b8b7-6cab8d23e5b6",
   "metadata": {
    "scrolled": true
   },
   "outputs": [],
   "source": [
    "!pip install seaborn"
   ]
  },
  {
   "cell_type": "code",
   "execution_count": null,
   "id": "a2d19e11-be2d-4d15-ad69-0f95d08b641e",
   "metadata": {},
   "outputs": [],
   "source": [
    "!pip install --upgrade mp-api"
   ]
  },
  {
   "cell_type": "code",
   "execution_count": null,
   "id": "d64a591a",
   "metadata": {},
   "outputs": [],
   "source": [
    "import pandas as pd\n",
    "import matplotlib.pyplot as plt\n",
    "import seaborn as sns"
   ]
  },
  {
   "cell_type": "code",
   "execution_count": null,
   "id": "7eb90fa5",
   "metadata": {
    "scrolled": true
   },
   "outputs": [],
   "source": [
    "from mp_api.client import MPRester"
   ]
  },
  {
   "cell_type": "code",
   "execution_count": null,
   "id": "f6085951",
   "metadata": {},
   "outputs": [],
   "source": [
    "with MPRester() as mpr:\n",
    "    list_of_available_fields = mpr.summary.available_fields\n",
    "    print(list_of_available_fields)\n",
    "    # docs = mpr.summary.search(fields = ['material_id', 'is_metal', 'nsites', 'nelements', 'volume', 'density', 'density_atomic', 'elements', 'composition', 'composition_reduced', 'formula_pretty', 'formula_anonymous', 'chemsys'])"
   ]
  },
  {
   "cell_type": "code",
   "execution_count": null,
   "id": "7eec3b75",
   "metadata": {},
   "outputs": [],
   "source": [
    "fields = ['nsites', 'nelements', 'volume', 'density', 'density_atomic', 'elements', 'composition', 'composition_reduced', 'formula_pretty', 'formula_anonymous', 'chemsys']\n",
    "listOfTuples = [(obj.nsites, obj.nelements, obj.volume, obj.density, obj.density_atomic, obj.elements, obj.composition, obj.composition_reduced, obj.formula_pretty, obj.formula_anonymous, obj.chemsys) for obj in docs]\n",
    "# Create a DataFrame from the list of tuples\n",
    "df = pd.DataFrame(listOfTuples, columns=fields)"
   ]
  },
  {
   "cell_type": "code",
   "execution_count": null,
   "id": "c9ed2776",
   "metadata": {
    "scrolled": true
   },
   "outputs": [],
   "source": [
    "df.describe()"
   ]
  },
  {
   "cell_type": "code",
   "execution_count": null,
   "id": "2b15c3cb",
   "metadata": {},
   "outputs": [],
   "source": [
    "filtered_df_volume = df[df['volume'] <= 3000]\n",
    "filtered_df_a_density = df[df['density_atomic'] <= 7]\n",
    "filtered_df_a_density = df[df['density_atomic'] <= 1500]"
   ]
  },
  {
   "cell_type": "code",
   "execution_count": null,
   "id": "1c4dd446",
   "metadata": {
    "scrolled": true
   },
   "outputs": [],
   "source": [
    "fig, axes = plt.subplots(nrows=2, ncols=3, figsize=(15, 10))\n",
    "df['nsites'].plot(kind='hist', ax=axes[0, 0], title='nsites')\n",
    "df['nelements'].plot(kind='hist', ax=axes[0, 1], title='nelements')\n",
    "filtered_df_volume['volume'].plot(kind='hist', ax=axes[0, 2], title='volume')\n",
    "df['density'].plot(kind='hist', ax=axes[1, 0], title='density')\n",
    "df['density_atomic'].plot(kind='hist', ax=axes[1, 1], title='density_atomic')\n",
    "df['density_atomic'].plot(kind='hist', range=(df['density_atomic'].min(), 100), title='density_atomic_focused')\n"
   ]
  },
  {
   "cell_type": "code",
   "execution_count": null,
   "id": "bf875fb0",
   "metadata": {},
   "outputs": [],
   "source": [
    "filtered_df_a_density['density_atomic'].plot(kind='hist', range=(df['density_atomic'].min(), 1000), ax=axes[1, 1], title='density_atomic_focused')"
   ]
  },
  {
   "cell_type": "code",
   "execution_count": null,
   "id": "3e924317",
   "metadata": {},
   "outputs": [],
   "source": [
    "### plt.figure(figsize=(8, 6))\n",
    "plt.boxplot(df['volume'], vert=False)\n",
    "plt.title('Box and Whisker Plot for Volume')\n",
    "plt.xlabel('Volume')\n",
    "plt.show()\n",
    "\n",
    "plt.figure(figsize=(8, 6))\n",
    "plt.boxplot(df['density'], vert=False)\n",
    "plt.title('Box and Whisker Plot for Density')\n",
    "plt.xlabel('Density')\n",
    "plt.show()\n",
    "\n",
    "plt.figure(figsize=(8, 6))\n",
    "plt.boxplot(df['density_atomic'], vert=False)\n",
    "plt.title('Box and Whisker Plot for Atomic Density')\n",
    "plt.xlabel('Atomic Density')\n",
    "plt.show()"
   ]
  },
  {
   "cell_type": "code",
   "execution_count": null,
   "id": "1e1e3a76-6f85-4576-a638-5c67092f73a3",
   "metadata": {},
   "outputs": [],
   "source": [
    "df.info()\n",
    "numerical_columns = df.select_dtypes(include=['int64', 'float64'])\n",
    "correlation_matrix = numerical_columns.corr()\n",
    "plt.figure(figsize=(8, 6))\n",
    "sns.heatmap(correlation_matrix, annot=True, cmap='coolwarm', fmt='.2f', linewidths=.5)\n",
    "plt.title('Correlation Heatmap')\n",
    "plt.show()"
   ]
  },
  {
   "cell_type": "code",
   "execution_count": null,
   "id": "cfb47ebc",
   "metadata": {
    "scrolled": true
   },
   "outputs": [],
   "source": [
    "\n",
    "# Scatter plot of Volume vs. Density\n",
    "plt.figure(figsize=(10, 6))\n",
    "sns.scatterplot(x='volume', y='density', data=df)\n",
    "plt.title('Scatter Plot of Volume vs. Density')\n",
    "plt.xlabel('Volume')\n",
    "plt.ylabel('Density')\n",
    "plt.show()"
   ]
  },
  {
   "cell_type": "code",
   "execution_count": null,
   "id": "23b879a0",
   "metadata": {
    "scrolled": true
   },
   "outputs": [],
   "source": [
    "exploded_list = df['elements'].explode()\n",
    "value_counts_result = exploded_list.value_counts()\n",
    "print(value_counts_result)\n",
    "\n",
    "plt.figure(figsize=(20, 20))\n",
    "sns.countplot(y=exploded_list, order=exploded_list.value_counts().index, palette='viridis')\n",
    "plt.xlabel('Count')\n",
    "plt.ylabel('Unique Values')\n",
    "plt.title('Value Counts of Exploded List')\n",
    "plt.show()\n"
   ]
  },
  {
   "cell_type": "code",
   "execution_count": null,
   "id": "6631ee49",
   "metadata": {
    "scrolled": true
   },
   "outputs": [],
   "source": [
    "symm_docs = mpr.summary.search(fields = ['is_stable'])"
   ]
  },
  {
   "cell_type": "code",
   "execution_count": null,
   "id": "62cedfc5",
   "metadata": {},
   "outputs": [],
   "source": [
    "fieldsSym = ['is_stable']\n",
    "listOfTuplesSymm = [(obj.is_stable) for obj in symm_docs]\n",
    "# Create a DataFrame from the list of tuples\n",
    "df_Symm = pd.DataFrame(listOfTuplesSymm, columns=fieldsSym)\n",
    "explListSymm=df_Symm['is_stable'].explode()\n",
    "order=explListSymm.value_counts()\n",
    "print(order)\n",
    "\n",
    "plt.figure(figsize=(10, 8))\n",
    "order.plot(kind='bar', color='skyblue')\n",
    "plt.xlabel('Is stable?')\n",
    "plt.ylabel('Unique Values')\n",
    "plt.title('Count of stable materials')\n",
    "plt.show()"
   ]
  },
  {
   "cell_type": "markdown",
   "id": "e0bda772",
   "metadata": {},
   "source": [
    "### Making Cif Files from structures queried from API"
   ]
  },
  {
   "cell_type": "code",
   "execution_count": null,
   "id": "8b10c859",
   "metadata": {},
   "outputs": [],
   "source": [
    "mp_1077102 = mpr.summary.search(material_ids=[\"mp-1077102\"], fields=[\"structure\"])"
   ]
  },
  {
   "cell_type": "code",
   "execution_count": null,
   "id": "5f62b992",
   "metadata": {
    "scrolled": true
   },
   "outputs": [],
   "source": [
    "TmSn2=mp_1077102[0]\n",
    "TmSn2.structure\n",
    "TmSn2.structure.to(fmt=\"cif\", filename=\"mp_1077102_cif\")"
   ]
  },
  {
   "cell_type": "markdown",
   "id": "8eb116f3",
   "metadata": {},
   "source": [
    "### Using xtal2png to generate CrysTens representation"
   ]
  },
  {
   "cell_type": "code",
   "execution_count": null,
   "id": "a3d33f65",
   "metadata": {
    "scrolled": true
   },
   "outputs": [],
   "source": [
    "!pip install xtal2png\n",
    "from xtal2png.utils.data import example_structures\n",
    "from xtal2png.core import XtalConverter\n",
    "xc = XtalConverter()\n",
    "example_structures[1]"
   ]
  },
  {
   "cell_type": "code",
   "execution_count": null,
   "id": "0ba4f550",
   "metadata": {},
   "outputs": [],
   "source": [
    "xc = XtalConverter(save_dir=\"data\") # DFT surrogate relaxation via m3gnet by default\n",
    "data = xc.xtal2png(example_structures, save=True)\n",
    "relaxed_decoded_structures = xc.png2xtal(data, save=False)\n",
    "\n",
    "xc = XtalConverter(save_dir=\"data\")\n",
    "data = xc.xtal2png(example_structures, save=True)\n",
    "decoded_structures = xc.png2xtal(data, save=False)"
   ]
  },
  {
   "cell_type": "code",
   "execution_count": null,
   "id": "211b4c65",
   "metadata": {},
   "outputs": [],
   "source": [
    "import glob, os\n",
    "from PIL import Image\n",
    "for fpath in glob.glob(\"data/*.png\"):\n",
    "    with Image.open(fpath) as im:\n",
    "      im = im.resize((64*5, 64*5), Image.BOX)\n",
    "      print(fpath)\n",
    "      display(im)"
   ]
  },
  {
   "cell_type": "code",
   "execution_count": null,
   "id": "8acd75a0",
   "metadata": {
    "scrolled": true
   },
   "outputs": [],
   "source": [
    "!pip install ase nglview"
   ]
  },
  {
   "cell_type": "code",
   "execution_count": null,
   "id": "3b4a2a13",
   "metadata": {},
   "outputs": [],
   "source": [
    "from pymatgen.io.ase import AseAtomsAdaptor\n",
    "from ase.visualize import view\n",
    "\n",
    "aaa = AseAtomsAdaptor()\n",
    "[display(view(aaa.get_atoms(s), viewer='ngl')) for s in example_structures]"
   ]
  },
  {
   "cell_type": "markdown",
   "id": "20a885d2",
   "metadata": {},
   "source": [
    "### Getting Electron Charge Density data"
   ]
  },
  {
   "cell_type": "markdown",
   "id": "4f04e0fb-5542-41d2-af73-e3f0badf13ba",
   "metadata": {},
   "source": [
    "Retrieving Material Project IDs of all strucutres with electron charge density data. Query AWS OpenData for the Materials Project from the AWS CLI with the query `aws s3 ls --no-sign-request s3://materialsproject-parsed/chgcars/ > MaterialIDWithChargeData.csv`. This retried the list of all the materials that have electron charge density data and stored it to a CSV file."
   ]
  },
  {
   "cell_type": "markdown",
   "id": "e70e52aa-2705-4eab-ab3a-b1f609ef36c9",
   "metadata": {},
   "source": [
    "#### Extracting the material IDs from the returned file"
   ]
  },
  {
   "cell_type": "code",
   "execution_count": null,
   "id": "cd903ea3-052b-4bd3-8218-6e0c377b7004",
   "metadata": {
    "scrolled": true
   },
   "outputs": [],
   "source": [
    "mp_ids = []\n",
    "i=0\n",
    "with open(\"MaterialIDWithChargeData.txt\", \"r\") as file:\n",
    "    for line in file:\n",
    "        # Split each line into tokens\n",
    "        tokens = line.split()\n",
    "        \n",
    "        # Extract the material ID (assuming it's always the last token)\n",
    "        if i<100: print(line)\n",
    "        material_id = tokens[-1]\n",
    "        material_id = material_id.split(\".\")[0].replace('\\x00', '').encode('utf-8').decode('utf-8')\n",
    "        material_id=str(material_id)\n",
    "        # print(material_id)\n",
    "        \n",
    "        # Append the material ID to the list\n",
    "        if material_id!=\"\":\n",
    "            mp_ids.append(material_id)\n",
    "        i+=1\n",
    "\n",
    "print(mp_ids[:100])"
   ]
  },
  {
   "cell_type": "markdown",
   "id": "a856acc7-31d5-4a18-a3c4-8e4a1beebb19",
   "metadata": {},
   "source": [
    "#### Load the return file with the data about the files in Materials Project AWS S3 bucket, and sort the df by size, with the intention to fetch and use the smallest files to save space"
   ]
  },
  {
   "cell_type": "code",
   "execution_count": null,
   "id": "f90f6698-2d38-439e-963f-22e442ef227b",
   "metadata": {},
   "outputs": [],
   "source": [
    "import pandas as pd\n",
    "\n",
    "# Replace 'your_file.csv' with the actual file name\n",
    "input_file = 'MaterialIDWithChargeData.csv'\n",
    "\n",
    "# Read the CSV file with tab as the separator and provide column names\n",
    "MaterialIDWithChargeDataDF = pd.read_csv(input_file, sep='\\t', header=None, names=['Date', 'Time', 'Size', 'Material_ID'], encoding='utf-16')\n",
    "\n",
    "# Assuming you want to sort by the 'Material_ID' column\n",
    "MaterialIDWithChargeDataSortedAscendingDF = MaterialIDWithChargeDataDF.sort_values(by='Size', ascending=True)\n",
    "\n",
    "MaterialIDWithChargeDataSortedAscendingDF.head()\n",
    "# Save the sorted DataFrame to a new CSV file\n",
    "len(MaterialIDWithChargeDataSortedAscendingDF)"
   ]
  },
  {
   "cell_type": "markdown",
   "id": "4cce9455-f640-452a-90a4-4ac831f13499",
   "metadata": {},
   "source": [
    "#### Getting the names of which files to get so that the total is 500 mb "
   ]
  },
  {
   "cell_type": "code",
   "execution_count": null,
   "id": "fd269757-887c-4b83-8501-fabbe6329597",
   "metadata": {
    "scrolled": true
   },
   "outputs": [],
   "source": [
    "goalSizeOfDB=3e9 #1 gb in bytes\n",
    "\n",
    "total_size = 0\n",
    "rows_to_include = []\n",
    "\n",
    "# Iterate through the DataFrame\n",
    "for index, row in MaterialIDWithChargeDataSortedAscendingDF.iterrows():\n",
    "    # Assuming 'Size' is the column representing file size in each row\n",
    "    size = row['Size']\n",
    "    \n",
    "    # Check if adding the current row's size exceeds 1000 MB\n",
    "    if size!=0 and total_size + size <= goalSizeOfDB:\n",
    "        total_size += size\n",
    "        rows_to_include.append(index)\n",
    "    elif total_size + size <= goalSizeOfDB and size==0:\n",
    "        continue\n",
    "    else:\n",
    "        break  # Stop iterating once the total size exceeds 1000 MB\n",
    "print(f\"Number of ECD Files to download: {(len(rows_to_include))}\")\n",
    "print(f\"Number of Images availible: {(len(rows_to_include))*64}\") ##amount of pictures we'll be able to use in the first step of simply trying to get the model to generate sth.\n",
    "# Create a new DataFrame containing only the selected rows\n",
    "rowsInDataCapacityMaterialsWithChargeData = MaterialIDWithChargeDataSortedAscendingDF.loc[rows_to_include]\n",
    "print(f\"rowsInDataCapacityMaterialsWithChargeData len: {len(rowsInDataCapacityMaterialsWithChargeData)}\")\n",
    "#Get the material IDs to be downloaded\n",
    "Material_ID_Column=rowsInDataCapacityMaterialsWithChargeData['Material_ID']\n",
    "IDsToDownloadDataFor=[x.split(\".\")[0] for x in Material_ID_Column]\n",
    "print(IDsToDownloadDataFor[:100])\n",
    "# Print or use 'selected_rows_df' as needed\n",
    "print(rowsInDataCapacityMaterialsWithChargeData)\n",
    "awsQueries=[f\"aws s3 cp --no-sign-request s3://materialsproject-parsed/chgcars/{m_id} baseData/ecd/raw_ecd_data/{m_id}\" for m_id in rowsInDataCapacityMaterialsWithChargeData['Material_ID']]\n",
    "bash_script_path = \"awsECDDataFetcher.sh\"\n",
    "\n",
    "# Write the commands to the bash script file\n",
    "with open(bash_script_path, \"w\") as bash_script:\n",
    "    for query in awsQueries:\n",
    "        bash_script.write(f\"{query}\\n\")"
   ]
  },
  {
   "cell_type": "markdown",
   "id": "96bfb2ab-acd4-40c0-af2b-fb328beadf7a",
   "metadata": {},
   "source": [
    "### Main Code: Getting the CHGCAR files and extracting and saving the images"
   ]
  },
  {
   "cell_type": "code",
   "execution_count": null,
   "id": "0ed82532-034e-486e-8874-18cbc1c93dbc",
   "metadata": {},
   "outputs": [],
   "source": [
    "from PIL import Image\n",
    "import numpy as np\n",
    "import matplotlib.pyplot as plt\n",
    "\n",
    "desired_image_size = (256, 256)\n",
    "\n",
    "for mID in IDsToDownloadDataFor:\n",
    "    with MPRester() as mpr:\n",
    "        charge_density_total_x = mpr.get_charge_density_from_material_id(mID).data['total']\n",
    "    \n",
    "    for x, density_frame in enumerate(charge_density_total_x):\n",
    "        if np.std(density_frame) > 2:\n",
    "            normalized_density = ((density_frame - np.min(density_frame)) /\n",
    "                                  (np.max(density_frame) - np.min(density_frame))) * 255\n",
    "            normalized_density = normalized_density.astype(np.uint8)\n",
    "            \n",
    "            resized_image = Image.fromarray(normalized_density).resize(desired_image_size, Image.LANCZOS)\n",
    "            resized_image.save(f'ECDDATAEMERGENCY/{mID}_frame_{x}.png')\n"
   ]
  },
  {
   "cell_type": "code",
   "execution_count": null,
   "id": "016a8caf-1482-4537-99e5-b37892bbbae9",
   "metadata": {
    "scrolled": true
   },
   "outputs": [],
   "source": [
    "from PIL import Image\n",
    "import numpy as np\n",
    "import matplotlib.pyplot as plt\n",
    "\n",
    "common_image_size = (100, 100)\n",
    "\n",
    "for mID in IDsToDownloadDataFor:\n",
    "    charge_density_total_x = mpr.get_charge_density_from_material_id(mID).data['total']\n",
    "    \n",
    "    for x, density_frame in enumerate(charge_density_total_x):\n",
    "        if np.std(density_frame) > 2:\n",
    "            normalized_density = ((density_frame - np.min(density_frame)) /\n",
    "                                  (np.max(density_frame) - np.min(density_frame))) * 255\n",
    "            normalized_density = normalized_density.astype(np.uint8)\n",
    "            \n",
    "            resized_image = Image.fromarray(normalized_density).resize(common_image_size, Image.LANCZOS)\n",
    "            \n",
    "            plt.imshow(resized_image, cmap='viridis')\n",
    "            plt.show()\n",
    "            plt.axis('off')\n",
    "            print(np.std(charge_density_total_x[x]))\n",
    "            plt.savefig(f'{mID}_frame_{x}')\n",
    "\n"
   ]
  },
  {
   "cell_type": "code",
   "execution_count": null,
   "id": "b26fa854-90dd-44bc-b443-19a5a6fdab2b",
   "metadata": {
    "scrolled": true
   },
   "outputs": [],
   "source": [
    "from PIL import Image\n",
    "\n",
    "print(f\"Length of IDsToDownloadDataFor list: {len(IDsToDownloadDataFor)}\")\n",
    "for mID in IDsToDownloadDataFor:\n",
    "    print(IDsToDownloadDataFor.index(mID))\n",
    "    charge_density_total_x=mpr.get_charge_density_from_material_id(mID).data['total']\n",
    "    print(len(charge_density_total_x))\n",
    "    common_image_size = (100, 100)\n",
    "    for x in range(len(charge_density_total_x)):\n",
    "    # Plot the charge density\n",
    "        if np.std(charge_density_total_x[x]) > 0:\n",
    "            charge_density_image = Image.fromarray(charge_density_total_x[x])\n",
    "            charge_density_image_resized = charge_density_image.resize(common_image_size, Image.LANCZOS)\n",
    "            plt.imshow(charge_density_image_resized, cmap='viridis')\n",
    "            plt.show()\n",
    "            print(np.std(charge_density_total_x[x]))\n",
    "        # plt.savefig(f'{mID}_frame_{x}')\n",
    "\n",
    "    "
   ]
  },
  {
   "cell_type": "markdown",
   "id": "ba5468ad-97e1-44e0-b6ec-409035789ead",
   "metadata": {},
   "source": [
    "A bash script is created which downloads all the .gz ECD files from the AWS S3 Bucket. We then use `tar -zxvf *.gz` from the terminal in the folder containing these files to unzip them and reveal the `.json` files that actually contain the data"
   ]
  },
  {
   "cell_type": "markdown",
   "id": "ab8bbd88-fb88-4831-bc96-84edcc82bf9f",
   "metadata": {},
   "source": [
    "#### Trying to save the VASP files so that images can be created from them later"
   ]
  },
  {
   "cell_type": "code",
   "execution_count": null,
   "id": "5f114104-c9a8-41d8-98de-78310237a1f6",
   "metadata": {
    "scrolled": true
   },
   "outputs": [],
   "source": [
    "chgcar = mpr.get_charge_density_from_material_id(\"mp-149\")\n",
    "charge_density.write_file(\"mp-149_chgcar.vasp\")"
   ]
  },
  {
   "cell_type": "code",
   "execution_count": null,
   "id": "6fb648ec-8959-4119-9826-c2e6a9b402f3",
   "metadata": {},
   "outputs": [],
   "source": [
    "print(chgcar)"
   ]
  },
  {
   "cell_type": "code",
   "execution_count": null,
   "id": "644c6109-a204-4121-bafe-6c724f5fa1bf",
   "metadata": {
    "scrolled": true
   },
   "outputs": [],
   "source": [
    "stableMaterialsIDDocs = mpr.summary.search(is_stable=True, fields = [\"material_id\"])"
   ]
  },
  {
   "cell_type": "code",
   "execution_count": null,
   "id": "92cf1835-6de2-4d87-9140-dde24a5e6760",
   "metadata": {
    "scrolled": true
   },
   "outputs": [],
   "source": [
    "StableMaterialsIDList=[str(x.material_id[:]) for x in stableMaterialsIDDocs]\n",
    "StableMaterialsIDList"
   ]
  },
  {
   "cell_type": "code",
   "execution_count": null,
   "id": "4e2b86cc-c8a8-4318-b625-a1e6d928c147",
   "metadata": {},
   "outputs": [],
   "source": [
    "x=[int(item[3:]) for item in StableMaterialsIDList]\n",
    "countList=[1 if item>=1523378 and item <=2913383 else 0 for item in x]\n",
    "print(sum(countList))"
   ]
  },
  {
   "cell_type": "code",
   "execution_count": null,
   "id": "6119ae08-2a09-41a2-9d85-c685692a4950",
   "metadata": {},
   "outputs": [],
   "source": [
    "from collections import Counter\n",
    "# Count occurrences of each element in the list\n",
    "StableMaterialsIDList_counts = Counter(StableMaterialsIDList)\n",
    "mp_ids_counts = Counter(mp_ids)\n",
    "\n",
    "# Print duplicates\n",
    "print(\"Duplicates in the StableMaterialsIDList_counts:\")\n",
    "for element, count in StableMaterialsIDList_counts.items():\n",
    "    if count > 1:\n",
    "        print(f\"{element} appears {count} times.\")\n",
    "        \n",
    "print(\"Duplicates in the mp_ids_counts:\")\n",
    "for element, count in mp_ids_counts.items():\n",
    "    if count > 1:\n",
    "        print(f\"{element} appears {count} times.\")\n",
    "print(f\"len of mp_ids as list: {len(mp_ids)}\")\n",
    "print(f\"len of mp_ids as set: {len(set(mp_ids))}\")\n",
    "print(f\"len of StableMaterialsIDList_counts as list: {len(StableMaterialsIDList_counts)}\")\n",
    "print(f\"len of StableMaterialsIDList_counts as set: {len(set(StableMaterialsIDList_counts))}\")"
   ]
  },
  {
   "cell_type": "code",
   "execution_count": null,
   "id": "ddde0267-9902-414a-a7b2-6bc7f6b6461a",
   "metadata": {},
   "outputs": [],
   "source": [
    "StableMaterialsWithECDData = list(set(mp_ids) & set(StableMaterialsIDList))\n",
    "print(StableMaterialsWithECDData)\n",
    "len(StableMaterialsWithECDData)"
   ]
  },
  {
   "cell_type": "code",
   "execution_count": null,
   "id": "6079b92c-74dc-44f8-8d7c-19bf26915330",
   "metadata": {
    "scrolled": true
   },
   "outputs": [],
   "source": [
    "# listt = [\"mp-7891\"]\n",
    "listOfMostActiveFramePerMolecule = []\n",
    "\n",
    "for material_id in StableMaterialsIDList:\n",
    "    print(material_id)\n",
    "    charge_density_total = mpr.get_charge_density_from_material_id(material_id).data['total']\n",
    "    max_std_index = np.argmax(np.std(charge_density_total, axis=1))\n",
    "    listOfMostActiveFramePerMolecule.append(charge_density_total[max_std_index])\n",
    "\n",
    "print(listOfMostActiveFramePerMolecule)\n"
   ]
  },
  {
   "cell_type": "code",
   "execution_count": null,
   "id": "c5a6d89a",
   "metadata": {
    "scrolled": true
   },
   "outputs": [],
   "source": [
    "charge_density"
   ]
  },
  {
   "cell_type": "code",
   "execution_count": null,
   "id": "47e47f8e-6603-46f0-8bf3-e8a474507cfe",
   "metadata": {},
   "outputs": [],
   "source": [
    "import os\n",
    "\n",
    "current_directory = os.getcwd()\n",
    "print(\"Current Directory:\", current_directory)\n"
   ]
  },
  {
   "cell_type": "code",
   "execution_count": null,
   "id": "adee4e0b-6c55-40d8-9324-64547d2e35f9",
   "metadata": {},
   "outputs": [],
   "source": [
    "import pymatgen.core.structure\n",
    "import matplotlib.pyplot as plt\n",
    "from pymatgen.io.vasp.outputs import Chgcar\n",
    "import matplotlib.pyplot as plt\n",
    "from matplotlib.colors import LogNorm\n",
    "import numpy as np\n",
    "\n",
    "# Replace 'path/to/your/OUTCAR' with the actual path to your VASP OUTCAR file containing ECD data\n",
    "chgcar_file_path = 'C:\\\\Users\\\\91931\\\\~\\\\diss\\\\vaspFilesECDData\\\\mp-1523401_chgcar.vasp'   ##THE PATH IS NOT WORKING\n",
    "\n",
    "# Load the structure from the OUTCAR file\n",
    "chgcar = Chgcar.from_file(chgcar_file_path)\n",
    "structure = chgcar.structure\n",
    "# structure = Structure.from_file(outcar_file_path, 'OUTCAR')\n",
    "\n",
    "all_properties = list(structure.site_properties.keys())\n",
    "print(all_properties)\n",
    "# Extract ECD data from the OUTCAR file\n",
    "# Replace 'your_property_name' with the actual name of the ECD property you want to visualize\n",
    "ecd_data = structure.site_properties['charge_density']\n",
    "\n",
    "# Plot the ECD data\n",
    "plt.plot(ecd_data)\n",
    "plt.xlabel('Step')\n",
    "plt.ylabel('ECD Property')\n",
    "plt.title('ECD Property vs. Step')\n",
    "plt.show()\n"
   ]
  },
  {
   "cell_type": "code",
   "execution_count": null,
   "id": "28db6a39",
   "metadata": {
    "scrolled": true
   },
   "outputs": [],
   "source": [
    "from pymatgen.io.vasp.outputs import Chgcar\n",
    "import matplotlib.pyplot as plt\n",
    "from matplotlib.colors import LogNorm\n",
    "import numpy as np\n",
    "\n",
    "# Load the Chgcar object from your data (replace 'path_to_chgcar' with the actual path or data)\n",
    "# chgcar = charge_density\n",
    "\n",
    "# Get the charge density data\n",
    "charge_density_total = charge_density.data['total']\n",
    "\n",
    "stdevs=[]\n",
    "for x in range(64):\n",
    "# Plot the charge density\n",
    "    plt.imshow(charge_density_total[x], cmap='viridis')\n",
    "    plt.savefig(f'chargeDensityImage_Slice{x}.png')\n",
    "    plt.show()\n",
    "    print(np.std(charge_density_total[x]))\n",
    "    stdevs.append(np.std(charge_density_total[x]))\n",
    "\n",
    "print(np.max(stdevs))\n",
    "plt.imshow(charge_density[np.argmax(stdevs)], cmap='viridis')\n",
    "plt.show()\n",
    "\n",
    "\n",
    "\n",
    "# plt.colorbar(label='Charge Density')\n",
    "# plt.title('Electron Charge Density')\n",
    "# plt.xlabel('X-axis')\n",
    "# plt.ylabel('Y-axis')\n",
    "\n",
    "# Save the plot as PNG (replace 'output_path.png' with your desired output path)\n",
    "# plt.savefig('chargeDensityImage.png')\n",
    "\n",
    "# Show the plot (optional)\n",
    "plt.show()\n"
   ]
  },
  {
   "cell_type": "code",
   "execution_count": null,
   "id": "df1cd3d8",
   "metadata": {},
   "outputs": [],
   "source": [
    "from pymatgen.io.vasp.outputs import Chgcar\n",
    "import matplotlib.pyplot as plt\n",
    "from matplotlib.colors import LogNorm\n",
    "from mpl_toolkits.mplot3d import Axes3D\n",
    "import numpy as np\n",
    "\n",
    "# Load the Chgcar object from your data (replace 'path_to_chgcar' with the actual path or data)\n",
    "chgcar = charge_density\n",
    "\n",
    "# Get the charge density data\n",
    "charge_density1 = charge_density\n",
    "\n",
    "# Create a meshgrid for 3D plotting\n",
    "x, y, z = [np.arange(dim) for dim in charge_density1.shape]\n",
    "\n",
    "# Plot the 3D charge density\n",
    "fig = plt.figure(figsize=(10, 8))\n",
    "ax = fig.add_subplot(111, projection='3d')\n",
    "\n",
    "# The rstride and cstride parameters control the row and column stride of the plot\n",
    "ax.plot_surface(x, y, z, facecolors=plt.cm.viridis(charge_density1 / charge_density1.max()), rstride=5, cstride=5, alpha=0.7, norm=LogNorm())\n",
    "\n",
    "# Customize the plot\n",
    "ax.set_xlabel('X-axis')\n",
    "ax.set_ylabel('Y-axis')\n",
    "ax.set_zlabel('Z-axis')\n",
    "ax.set_title('3D Electron Charge Density')\n",
    "\n",
    "# Save the plot as PNG (replace 'output_path.png' with your desired output path)\n",
    "plt.savefig('3D_Electron_density.png')\n",
    "\n",
    "# Show the plot (optional)\n",
    "plt.show()\n"
   ]
  },
  {
   "cell_type": "code",
   "execution_count": null,
   "id": "22192b95-6533-4454-8610-5c13663cffec",
   "metadata": {
    "scrolled": true
   },
   "outputs": [],
   "source": [
    "from mp_api.client import MPRester\n",
    "\n",
    "with MPRester() as mpr:\n",
    "        docs = mpr.get_charge_density_from_material_id(\"mp-149\")"
   ]
  },
  {
   "cell_type": "code",
   "execution_count": null,
   "id": "c22413d1-bf75-45a4-859a-3e1202d31887",
   "metadata": {},
   "outputs": [],
   "source": [
    "xx = [x for x in docs if x.energy_above_hull <= 0.1]"
   ]
  },
  {
   "cell_type": "code",
   "execution_count": null,
   "id": "6ebb2cd1-7d48-41b7-be70-822c75006514",
   "metadata": {},
   "outputs": [],
   "source": [
    "len(xx)"
   ]
  },
  {
   "cell_type": "code",
   "execution_count": null,
   "id": "7f22503f-415a-4f34-986d-47139bcffed5",
   "metadata": {},
   "outputs": [],
   "source": [
    "docs = mpr.summary.search(material_ids=[\"mp-149\"])"
   ]
  },
  {
   "cell_type": "code",
   "execution_count": null,
   "id": "b31bd65a-862f-46b2-a82b-74bf7ced0cea",
   "metadata": {},
   "outputs": [],
   "source": [
    "docs[0].structure.lattice.a"
   ]
  },
  {
   "cell_type": "code",
   "execution_count": null,
   "id": "1d367579-6dbf-4ac0-aaa0-513641654e56",
   "metadata": {},
   "outputs": [],
   "source": []
  }
 ],
 "metadata": {
  "kernelspec": {
   "display_name": "Python 3 (ipykernel)",
   "language": "python",
   "name": "python3"
  },
  "language_info": {
   "codemirror_mode": {
    "name": "ipython",
    "version": 3
   },
   "file_extension": ".py",
   "mimetype": "text/x-python",
   "name": "python",
   "nbconvert_exporter": "python",
   "pygments_lexer": "ipython3",
   "version": "3.11.7"
  }
 },
 "nbformat": 4,
 "nbformat_minor": 5
}
