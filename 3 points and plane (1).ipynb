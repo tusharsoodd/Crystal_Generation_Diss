{
 "cells": [
  {
   "cell_type": "code",
   "execution_count": null,
   "id": "61042719",
   "metadata": {},
   "outputs": [],
   "source": [
    "import pandas as pd\n",
    "import matplotlib.pyplot as plt\n",
    "import seaborn as sns\n",
    "from mp_api.client import MPRester\n",
    "import pymatgen.core.structure\n",
    "import random\n",
    "from pymatgen.analysis.chemenv.utils.coordination_geometry_utils import Plane\n",
    "import numpy as np\n",
    "from scipy.spatial import distance\n",
    "import random"
   ]
  },
  {
   "cell_type": "markdown",
   "id": "356e4aa5",
   "metadata": {},
   "source": [
    "## Development"
   ]
  },
  {
   "cell_type": "markdown",
   "id": "646f783c",
   "metadata": {},
   "source": [
    "### Getting material structure"
   ]
  },
  {
   "cell_type": "code",
   "execution_count": null,
   "id": "d8e18166-9730-4e6b-85be-8e6a4348df6a",
   "metadata": {},
   "outputs": [],
   "source": [
    "from PIL import Image\n",
    "\n",
    "def resize_image(image_path, new_width, new_height):\n",
    "    \"\"\"Resizes an image while maintaining aspect ratio.\n",
    "\n",
    "    Args:\n",
    "        image_path (str): The path to the image file.\n",
    "        new_width (int): The desired new width of the image.\n",
    "        new_height (int): The desired new height of the image.\n",
    "    \"\"\"\n",
    "\n",
    "    try:\n",
    "        img = Image.open(image_path)\n",
    "\n",
    "        # Calculate aspect ratio and resize accordingly\n",
    "        ratio = new_width / img.width  \n",
    "        if ratio * img.height > new_height:  # Resize based on height if needed\n",
    "            ratio = new_height / img.height\n",
    "            new_width = int(ratio * img.width)\n",
    "\n",
    "        resized_img = img.resize((new_width, int(ratio * img.height))) \n",
    "        resized_img.save(image_path)  # Overwrite the original file\n",
    "\n",
    "    except FileNotFoundError:\n",
    "        print(f\"Error: Image not found at {image_path}\")\n",
    "    except Exception as e:\n",
    "        print(f\"An error occurred: {e}\")\n",
    "\n",
    "# Example usage\n",
    "image_path = \"C:\\\\Users\\\\91931\\\\~\\\\diss\\\\PLOT_GAUSSIAN_2.png\"  # Replace with your image path\n",
    "new_width = 256\n",
    "new_height = 256\n",
    "resize_image(image_path, new_width, new_height)\n"
   ]
  },
  {
   "cell_type": "code",
   "execution_count": null,
   "id": "b534f9dc",
   "metadata": {},
   "outputs": [],
   "source": [
    "with MPRester(\"jS4ST5fsFePAWwMurwaUh5FRcfXmgdA3\") as mpr:\n",
    "    list_of_available_fields = mpr.summary.available_fields\n",
    "    print(list_of_available_fields)\n",
    "    # docs = mpr.summary.search(fields=[\"material_id\", \"structure\", \"nsites\", \"volume\", \"energy_above_hull\"])"
   ]
  },
  {
   "cell_type": "code",
   "execution_count": null,
   "id": "8319f644-dad5-460e-8e85-afbc1cdcedbd",
   "metadata": {
    "scrolled": true
   },
   "outputs": [],
   "source": [
    "# print(docs[20].energy_above_hull)\n",
    "docs_NONE = [x for x in docs if x.energy_above_hull == None]\n",
    "print(len(docs_NONE))\n",
    "docs_filtered=[]\n",
    "for x in docs:\n",
    "    if x.energy_above_hull == None:\n",
    "        print(x)\n",
    "    elif x.energy_above_hull < .1:\n",
    "        docs_filtered.append(x)\n",
    "\n",
    "len(docs_filtered)"
   ]
  },
  {
   "cell_type": "markdown",
   "id": "d00fad0d",
   "metadata": {},
   "source": [
    "### Converting to pymatgen structure"
   ]
  },
  {
   "cell_type": "code",
   "execution_count": null,
   "id": "8e25f77a-b888-4db7-a995-bfe1aa75efcb",
   "metadata": {},
   "outputs": [],
   "source": [
    "mp_757220[0].volume"
   ]
  },
  {
   "cell_type": "code",
   "execution_count": null,
   "id": "259237ce",
   "metadata": {
    "scrolled": true
   },
   "outputs": [],
   "source": [
    "# Assuming doc is your MPDataDoc<SummaryDoc> object\n",
    "structure = mp_757220[0].structure  # Replace 'structure' with the actual attribute name\n",
    "print(type(structure))\n",
    "print(structure.lattice.a)\n",
    "print(\"\\n\")\n",
    "print(structure)\n",
    "cc=VolumeScaling(mp_757220[0])\n",
    "print(cc.structure)\n",
    "# print(len(structure))\n",
    "# print(structure[5])\n",
    "# print(structure[5].coords)"
   ]
  },
  {
   "cell_type": "code",
   "execution_count": null,
   "id": "b28e6f3d-bcfe-478d-89cc-31581f59242f",
   "metadata": {},
   "outputs": [],
   "source": [
    "structure.lattice"
   ]
  },
  {
   "cell_type": "markdown",
   "id": "cbd892b2",
   "metadata": {},
   "source": [
    "### Making a pymatgen plane from three random points of the structure"
   ]
  },
  {
   "cell_type": "code",
   "execution_count": null,
   "id": "98ead950",
   "metadata": {
    "scrolled": true
   },
   "outputs": [],
   "source": [
    "\n",
    "total_atoms = len(structure)\n",
    "\n",
    "# Pick three random atom indices\n",
    "threeRandomPointCoords = random.sample(range(total_atoms), 3)\n",
    "print(threeRandomPointCoords)\n",
    "points=[]\n",
    "for x in threeRandomPointCoords:\n",
    "    points.append(structure[x].coords)\n",
    "print(points)\n",
    "\n",
    "plane = Plane.from_3points(*points)\n"
   ]
  },
  {
   "cell_type": "markdown",
   "id": "048bc360",
   "metadata": {},
   "source": [
    "### Finding closest points to the plane"
   ]
  },
  {
   "cell_type": "code",
   "execution_count": null,
   "id": "20c39a74-4ea2-4c7a-8353-4ef44a62f78a",
   "metadata": {},
   "outputs": [],
   "source": [
    "def getPointsCoordsInStructure(structure):\n",
    "    return list(map(lambda site: site.coords, structure[:]))\n"
   ]
  },
  {
   "cell_type": "code",
   "execution_count": null,
   "id": "25629ece",
   "metadata": {
    "scrolled": true
   },
   "outputs": [],
   "source": [
    "coords_list = list(map(lambda site: site.coords, structure[:]))\n",
    "coords_list=np.array(coords_list)\n",
    "\n",
    "print(len(coords_list))\n",
    "\n",
    "print(plane.distances_indices_sorted(coords_list, sign=False))\n",
    "print(plane.distances(coords_list))"
   ]
  },
  {
   "cell_type": "markdown",
   "id": "642d09b4",
   "metadata": {},
   "source": [
    "### Ranking the combinations of three points based on how many other points are in the plane they create"
   ]
  },
  {
   "cell_type": "code",
   "execution_count": null,
   "id": "254a1988",
   "metadata": {},
   "outputs": [],
   "source": [
    "# import numpy as np\n",
    "# from itertools import combinations\n",
    "\n",
    "# def plane_from_points(p1, p2, p3):\n",
    "#     v1 = p3 - p1\n",
    "#     v2 = p2 - p1\n",
    "#     cp = np.cross(v1, v2)\n",
    "#     a, b, c = cp\n",
    "#     d = np.dot(cp, p3)\n",
    "#     return a, b, c, d\n",
    "\n",
    "# def point_plane_distance(a, b, c, d, points):\n",
    "#     distances = np.abs(np.dot(points, np.array([a, b, c])) - d) / np.sqrt(a**2 + b**2 + c**2)\n",
    "#     return distances\n",
    "\n",
    "# def rank_planes(points):\n",
    "#     points_array = np.array(points)\n",
    "    \n",
    "#     # Compute plane equations and inliers in one step\n",
    "#     combinations_array = np.array(list(combinations(points_array, 3)))\n",
    "#     cp_array = np.cross(combinations_array[:, 2] - combinations_array[:, 0], combinations_array[:, 1] - combinations_array[:, 0])\n",
    "#     d_array = np.einsum('ij,ij->i', cp_array, combinations_array[:, 2])\n",
    "#     a, b, c = cp_array.T\n",
    "    \n",
    "#     distances = point_plane_distance(a, b, c, d_array, points_array)\n",
    "#     inliers_count = np.sum(distances < 0.01, axis=1)\n",
    "\n",
    "#     # Combine results and sort\n",
    "#     plane_rankings = sorted(zip(combinations_array, inliers_count), key=lambda x: x[1], reverse=True)\n",
    "\n",
    "#     return plane_rankings\n"
   ]
  },
  {
   "cell_type": "code",
   "execution_count": null,
   "id": "2edcb9eb",
   "metadata": {},
   "outputs": [],
   "source": [
    "# rankings=rank_planes(coords_list)\n",
    "# print(rankings)"
   ]
  },
  {
   "cell_type": "code",
   "execution_count": null,
   "id": "cfcf3de7",
   "metadata": {
    "scrolled": true
   },
   "outputs": [],
   "source": []
  },
  {
   "cell_type": "code",
   "execution_count": null,
   "id": "d952fd21-448e-4f34-a4a9-ec2e55a75f53",
   "metadata": {},
   "outputs": [],
   "source": [
    "average_loss = np.mean(loss_values)\n",
    "average_mse = np.mean(mse_values)\n",
    "average_rmse = np.mean(rmse_values)\n",
    "average_mae = np.mean(mae_values)\n",
    "\n",
    "# Print the averages\n",
    "print(\"Average Loss:\", average_loss)\n",
    "print(\"Average MSE:\", average_mse)\n",
    "print(\"Average RMSE:\", average_rmse)\n",
    "print(\"Average MAE:\", average_mae)"
   ]
  },
  {
   "cell_type": "code",
   "execution_count": null,
   "id": "bded026b-15f3-46b6-8200-bdc648df28a7",
   "metadata": {},
   "outputs": [],
   "source": []
  },
  {
   "cell_type": "code",
   "execution_count": null,
   "id": "fcab114d-7020-4115-9b93-b4a6e61b9383",
   "metadata": {
    "scrolled": true
   },
   "outputs": [],
   "source": []
  },
  {
   "cell_type": "code",
   "execution_count": null,
   "id": "24ad40d6-45be-418c-a5af-3c5e327a3a38",
   "metadata": {},
   "outputs": [],
   "source": [
    "import numpy as np\n",
    "import matplotlib.pyplot as plt\n",
    "import random\n",
    "def apply_gaussian_and_plot_fixed_dimensions(centers, mpid,plotCounter, amplitude=1.0, sigma=.2, target_resolution=(256, 256), plane_length=40, plane_width=40):\n",
    "    # Calculate Aspect Ratio\n",
    "    aspect_ratio = plane_width / plane_length\n",
    "    \n",
    "    # Calculate resolution based on aspect ratio\n",
    "    resolution_x = int(np.sqrt(np.prod(target_resolution) / aspect_ratio))\n",
    "    resolution_y = int(resolution_x * aspect_ratio)\n",
    "\n",
    "    # Define the bounds of the plane\n",
    "    min_x = -plane_length / 2\n",
    "    max_x = plane_length / 2\n",
    "    min_y = -plane_width / 2\n",
    "    max_y = plane_width / 2\n",
    "\n",
    "    # making the grid of points in the image\n",
    "    x = np.linspace(min_x, max_x, resolution_x)\n",
    "    y = np.linspace(min_y, max_y, resolution_y)\n",
    "    x, y = np.meshgrid(x, y)\n",
    "\n",
    "    total_gaussian_value = np.zeros_like(x)\n",
    "\n",
    "    for center in centers:\n",
    "        distance_squared = (x - center[0])**2 + (y - center[1])**2\n",
    "        gaussian_value = amplitude * np.exp(-distance_squared / (2 * sigma**2))\n",
    "        total_gaussian_value += gaussian_value\n",
    "\n",
    "    # Plot\n",
    "    plt.figure(figsize=(8, 8))\n",
    "    plt.axis('off')\n",
    "    plt.tight_layout()\n",
    "    # plt.imshow(total_gaussian_value, extent=(min_x, max_x, min_y, max_y), origin='lower', cmap='gray')\n",
    "    plt.savefig(f\"ECDDATAEMERGENCY/PLOT_GAUSSIAN_{random.randint(0, 1000000)}_{mpid}.png\", bbox_inches='tight', pad_inches=0)\n",
    "    plt.axis('off')  # Turn off axis lines\n",
    "    plt.close()\n",
    "\n",
    "# Sample data\n",
    "centers = [(0, 0), (5, 5), (-5, -5)]\n",
    "\n",
    "# Example usage\n",
    "apply_gaussian_and_plot_fixed_dimensions(centers, 0, 0, amplitude=1.0, sigma=.3, target_resolution=(256, 256))\n"
   ]
  },
  {
   "cell_type": "code",
   "execution_count": null,
   "id": "e04e3478-57a5-4730-a53e-29c50d1260f6",
   "metadata": {},
   "outputs": [],
   "source": []
  },
  {
   "cell_type": "code",
   "execution_count": null,
   "id": "7acc559d-165d-48a6-a805-aa1274c8b573",
   "metadata": {},
   "outputs": [],
   "source": [
    "# import numpy as np\n",
    "# import matplotlib.pyplot as plt\n",
    "\n",
    "# def apply_gaussian_and_plot_fixed_dimensions(centers, amplitude=1.0, sigma=1.0, fixed_resolution=256):\n",
    "#     min_x, max_x = -5, 5\n",
    "#     min_y, max_y = -5, 5\n",
    "\n",
    "#     # aspect_ratio = (max_y - min_y) / (max_x - min_x)  # Calculate Aspect Ratio\n",
    "#     # resolution_x = int(np.sqrt(fixed_resolution / aspect_ratio))\n",
    "#     # resolution_y = int(resolution_x * aspect_ratio)\n",
    "\n",
    "#     # Making the grid of points in the image\n",
    "#     x = np.linspace(min_x, max_x)\n",
    "#     # print(x)\n",
    "#     y = np.linspace(min_y, max_y)\n",
    "#     # print(y)\n",
    "#     x, y = np.meshgrid(x, y)\n",
    "\n",
    "#     total_gaussian_value = np.zeros_like(x)\n",
    "\n",
    "#     for center in centers:\n",
    "#         distance_squared = (x - center[0])**2 + (y - center[1])**2\n",
    "#         gaussian_value = amplitude * np.exp(-distance_squared / (2 * sigma**2))\n",
    "#         total_gaussian_value += gaussian_value\n",
    "\n",
    "#     plt.figure(figsize=(8, 8))\n",
    "#     plt.title(\"2D Gaussian Glow (Multiple Points)\")\n",
    "#     plt.xlabel(\"X-axis\")\n",
    "#     plt.ylabel(\"Y-axis\")\n",
    "#     plt.imshow(total_gaussian_value, extent=(min_x, max_x, min_y, max_y), origin='lower', cmap='viridis')\n",
    "#     plt.colorbar(label='Brightness')\n",
    "#     plt.scatter([c[0] for c in centers], [c[1] for c in centers], color='red', marker='o', label='Centers')\n",
    "#     plt.legend()\n",
    "#     plt.show()\n",
    "\n",
    "# # Example usage\n",
    "# centers = [(-5, -5), (2, 3), (-1, -2)]\n",
    "\n",
    "\n",
    "# apply_gaussian_and_plot_fixed_dimensions(centers, amplitude=1.0, sigma=0.5)\n"
   ]
  },
  {
   "cell_type": "code",
   "execution_count": null,
   "id": "0c2dab21",
   "metadata": {
    "scrolled": true
   },
   "outputs": [],
   "source": [
    "# import numpy as np\n",
    "# import matplotlib.pyplot as plt\n",
    "# from PIL import Image\n",
    "\n",
    "\n",
    "\n",
    "# import numpy as np\n",
    "# import matplotlib.pyplot as plt\n",
    "\n",
    "# def plot_points_with_gradient(width, height, points):\n",
    "#     plane = np.zeros((height, width))\n",
    "\n",
    "#     for point in points:\n",
    "#         x, y = point\n",
    "#         sigma = 30  # Adjust the standard deviation to control the spread of the glow\n",
    "#         A = 1 / (2 * np.pi * sigma**2)\n",
    "\n",
    "#         for i in range(height):\n",
    "#             for j in range(width):\n",
    "#                 distance_squared = (j - x)**2 + (i - y)**2\n",
    "#                 falloff = A * np.exp(-distance_squared / (2 * sigma**2))\n",
    "#                 plane[i, j] += falloff\n",
    "\n",
    "#     # Normalize the values\n",
    "#     plane /= np.max(plane)\n",
    "\n",
    "#     # Create a gradient from white to black\n",
    "#     gradient = np.linspace(1, 0, 256).reshape(1, -1)\n",
    "#     colored_plane = np.multiply(gradient, plane[:, :, None])  # Add an extra dimension for the color\n",
    "\n",
    "#     # Display the plot\n",
    "#     plt.imshow(colored_plane, cmap='gray', origin='lower')\n",
    "#     plt.show()\n",
    "\n",
    "# # Example usage:\n",
    "# width = 100\n",
    "# height = 80\n",
    "# points = [(20, 30), (50, 70), (80, 10), (30, 50)]\n",
    "\n",
    "# plot_points_with_gradient(width, height, points)\n",
    "\n",
    "\n",
    "# # Example usage:\n",
    "# min_x = 0\n",
    "# max_x = 10\n",
    "# min_y = 0\n",
    "# max_y = 8\n",
    "# points = [(2, 3), (5, 7), (8, 1), (3, 5)]\n",
    "\n",
    "# import numpy as np\n",
    "\n",
    "# def calculate_brightness(points, query_point, dissipation_factor):\n",
    "#     brightness = 0.0\n",
    "\n",
    "#     for point in points:\n",
    "#         x, y = point\n",
    "#         distance_squared = (query_point[0] - x)**2 + (query_point[1] - y)**2\n",
    "#         falloff = np.exp(-distance_squared / (2 * dissipation_factor**2))\n",
    "#         brightness += falloff\n",
    "\n",
    "#     return brightness\n",
    "\n",
    "# # Example usage\n",
    "# points = [(0, 0), (3, 4), (-2, -1)]\n",
    "# query_point = (1, 2)\n",
    "# dissipation_factor = 1.0\n",
    "\n",
    "# brightness = calculate_brightness(points, query_point, dissipation_factor)\n",
    "# print(f\"Brightness at {query_point}: {brightness}\")\n",
    "\n",
    "\n",
    "# def create_glowing_planes(min_x, max_x, min_y, max_y, points):\n",
    "#     target_size=(256, 256)\n",
    "    \n",
    "#     height = math.ceil(abs(min_y-max_y)) * resolution_factor\n",
    "#     width = math.ceil(abs(min_x-max_x)) * resolution_factor\n",
    "#     plane = np.zeros((height, width))\n",
    "#     for point in points:\n",
    "#         x, y = point\n",
    "#         sigma = 20  # Adjust the standard deviation to control the spread of the glow\n",
    "#         A = 1 / (2 * np.pi * sigma**2)\n",
    "        \n",
    "#         for i in range(height):\n",
    "#             for j in range(width):\n",
    "#                 distance_squared = (j/resolution_factor - x)**2 + (i/resolution_factor - y)**2\n",
    "#                 falloff = np.exp(-distance_squared / (2 * sigma**2))\n",
    "#                 plane[i, j] += A * falloff\n",
    "\n",
    "#     # Normalize the values\n",
    "#     plane /= np.max(plane)\n",
    "#     # plane = (plane * 255).astype(np.uint8)\n",
    "#     # # # plt.axis('off')\n",
    "#     plt.xlim(min_x, max_x)\n",
    "#     plt.ylim(min_y, max_y)\n",
    "#     plt.tight_layout()\n",
    "#     plt.imshow(plane, origin='lower')\n",
    "#     # resized_img = Image.fromarray(plane_int).resize(target_size, Image.LANCZOS)\n",
    "#     # resized_img.save(f'NormalisedData/Plane_{random.randint(1, 100)}.png')\n",
    "    \n",
    "#     # plt.savefig(f'NormalisedData/Plane_{random.randint(1, 100)}.png', bbox_inches='tight', pad_inches=0)\n",
    "#     # plt.show()\n",
    "    \n",
    "\n",
    "# # Show the plot\n",
    "# create_glowing_planes(min_x, max_x, min_y, max_y, points)"
   ]
  },
  {
   "cell_type": "code",
   "execution_count": null,
   "id": "a68e095f-2bea-48f5-9153-493ea2fe831c",
   "metadata": {},
   "outputs": [],
   "source": [
    "trainingCombinations=[]"
   ]
  },
  {
   "cell_type": "code",
   "execution_count": null,
   "id": "1fcb44ec-43d2-4aae-ad02-8a7d7449fa6a",
   "metadata": {},
   "outputs": [],
   "source": [
    "import numpy as np\n",
    "from itertools import combinations\n",
    "import math\n",
    "import random\n",
    "\n",
    "random.seed(2024)\n",
    "plotCounter=0\n",
    "global plotCounter\n",
    "def find_indices_strict(lst, value):\n",
    "    return [index for index, element in enumerate(lst) if element == value]\n",
    "\n",
    "def find_indices_conditional(lst, value):\n",
    "    return [index for index, element in enumerate(lst) if abs(element - value) < .01]\n",
    "\n",
    "def select_elements_by_indices(my_list, indices):\n",
    "    return [my_list[index] for index in indices]\n",
    "\n",
    "def find_dims_of_plane(points):\n",
    "    x_coordinates, y_coordinates = zip(*points)\n",
    "\n",
    "    # Determine the extent of the plane\n",
    "    min_x = min(x_coordinates)\n",
    "    max_x = max(x_coordinates)\n",
    "    min_y = min(y_coordinates)\n",
    "    max_y = max(y_coordinates)\n",
    "    \n",
    "    return([math.ceil(min_x)-2, math.ceil(max_x)+2, math.ceil(min_y)-2, math.ceil(max_y)+2])\n",
    "\n",
    "def getPointsCoordsInStructure(structure):\n",
    "    return list(map(lambda site: site.coords, structure[:]))\n",
    "\n",
    "def VolumeScaling(ChemicalObject):\n",
    "    reformedLattice = ChemicalObject.structure.lattice.scale(ChemicalObject.nsites)    \n",
    "    ChemicalObject.structure.lattice = reformedLattice\n",
    "    return ChemicalObject\n",
    "\n",
    "\n",
    "# def shortestPairWiseDistance(points):\n",
    "#     distances = cdist(points, points)\n",
    "#     # Set the diagonal elements to a large value (e.g., infinity) to avoid considering the distance from a point to itself\n",
    "#     np.fill_diagonal(distances, np.inf)\n",
    "#     # Find the indices of the minimum distance\n",
    "#     min_distance_indices = np.unravel_index(np.argmin(distances), distances.shape)\n",
    "#     min_distance = distances[min_distance_indices]\n",
    "\n",
    "def rank_planes(structure, mpid, supercell_dim=15):\n",
    "    a = structure.lattice.a\n",
    "    b = structure.lattice.b\n",
    "    c = structure.lattice.c\n",
    "    points=getPointsCoordsInStructure(structure)\n",
    "    print(1)\n",
    "    points_array = np.array(points)\n",
    "    print(2)\n",
    "    print(f\"\\tPoints in supercell to iterate through: {len(structure)}\") \n",
    "    combinations_array = np.array(list(combinations(points_array, 3)))  # make all the possible combos of 3 given a list of points\n",
    "    trainingCombinations.append(combinations_array)\n",
    "    ## check lattice parameters  (one of the lattice parameters is a smaller number than the other)\n",
    "    print(3)\n",
    "    supercell_structure = structure.make_supercell([math.ceil(supercell_dim / a),\n",
    "                                                    math.ceil(supercell_dim / b),\n",
    "                                                    math.ceil(supercell_dim / c)])\n",
    "    combo_no=0\n",
    "    TEMP_coordsFullList=[]\n",
    "    for combo in combinations_array[:-1]:\n",
    "        print(f\"Combination no. {combo_no} of {len(combinations_array)}\")\n",
    "        plane1 = Plane.from_3points(*combo)\n",
    "        coords_list = getPointsCoordsInStructure(supercell_structure)\n",
    "        distancesAndIndices = plane1.distances_indices_sorted(coords_list)\n",
    "        indices_on_plane = [index for index, value in enumerate(map(lambda x: abs(x), distancesAndIndices[0])) if value < 0.1]\n",
    "        print(f\"\\tNo. of points on this plane: {len(indices_on_plane)}\")\n",
    "        pointsOnPlane = select_elements_by_indices(coords_list, indices_on_plane)\n",
    "        coordsOnPlaneForPoints = plane1.project_and_to2dim(pointsOnPlane, \"mean\")\n",
    "        TEMP_coordsFullList.append(coordsOnPlaneForPoints)\n",
    "        # print(coordsOnPlaneForPoints)\n",
    "        apply_gaussian_and_plot_fixed_dimensions(coordsOnPlaneForPoints,plotCounter,mpid)\n",
    "        combo_no += 1\n",
    "    return TEMP_coordsFullList\n",
    "\n",
    "def main(ListOfIDS):\n",
    "    MATERIALNO = 1\n",
    "    trainingCombinations=[]\n",
    "    for x in ListOfIDS[:]:  # Iterate over a copy of the list\n",
    "        try:\n",
    "            ChemicalObject = mpr.summary.search(material_ids=[x], fields=[\"structure\", \"nsites\", \"volume\"])[0]\n",
    "        except Exception as e:\n",
    "            print(f\"An error occurred: {e}\")\n",
    "            continue\n",
    "\n",
    "        if len(VolumeScaling(ChemicalObject).structure) < 2000:\n",
    "            print(f\"-----------------------  M A T E R I A L  N o.  {MATERIALNO}: {x}  -----------------------\")\n",
    "            pointsOnPlaneWithDimOfPlanes = rank_planes(VolumeScaling(ChemicalObject).structure, x)\n",
    "            trainingCombinations.append(pointsOnPlaneWithDimOfPlanes)\n",
    "            if len(trainingCombinations) % 10000:\n",
    "                print(len(trainingCombinations))\n",
    "            if len(trainingCombinations) >= 500000:\n",
    "                break\n",
    "        else:\n",
    "            continue\n",
    "\n",
    "        MATERIALNO+=1\n",
    "        \n",
    "\n",
    "        "
   ]
  },
  {
   "cell_type": "code",
   "execution_count": null,
   "id": "91c7dc26-783c-46a6-83f0-5c01f9514268",
   "metadata": {
    "scrolled": true
   },
   "outputs": [],
   "source": [
    "import pandas as pd\n",
    "\n",
    "# Load the CSV file into a DataFrame\n",
    "df = pd.read_csv(\"C:\\\\Users\\\\91931\\\\~\\\\diss\\\\materialProjectCompleteWithFileNameReference - Copy.csv\")\n",
    "\n",
    "# Extract the 'material_id' column\n",
    "material_ids = df['material_id']\n",
    "\n",
    "# Now material_ids contains only the 'material_id' column data\n",
    "print(material_ids)\n"
   ]
  },
  {
   "cell_type": "code",
   "execution_count": null,
   "id": "863712f4-c3c2-45e5-b3b8-421ec6014ee4",
   "metadata": {
    "scrolled": true
   },
   "outputs": [],
   "source": [
    "## TEST OF ALL\n",
    "percentage=5\n",
    "num_items_to_select = int(len(material_ids) * (percentage / 100))\n",
    "\n",
    "# Select random items from the list\n",
    "IDS = random.sample(list(material_ids), num_items_to_select)\n",
    "# print(len(IDS))\n",
    "# IDS=[]\n",
    "\n",
    "main(IDS)"
   ]
  },
  {
   "cell_type": "code",
   "execution_count": null,
   "id": "9f456c52-a95e-440d-9685-5fc8e3a1d06a",
   "metadata": {},
   "outputs": [],
   "source": [
    "print(len(trainingCombinations))"
   ]
  },
  {
   "cell_type": "code",
   "execution_count": null,
   "id": "9e68ec08-f8a4-4f4e-8ab7-33c19ae38831",
   "metadata": {
    "scrolled": true
   },
   "outputs": [],
   "source": [
    "del structure"
   ]
  },
  {
   "cell_type": "code",
   "execution_count": null,
   "id": "5ed2d8f7-b9b0-45e7-8931-983bd348ae2f",
   "metadata": {},
   "outputs": [],
   "source": [
    "from itertools import chain\n",
    "flattened_list = list(chain.from_iterable(trainingCombinations))\n",
    "# print(flattened_list)"
   ]
  },
  {
   "cell_type": "code",
   "execution_count": null,
   "id": "d7a6c6d6-ad99-464f-b71f-50a434acf375",
   "metadata": {
    "scrolled": true
   },
   "outputs": [],
   "source": [
    "len(flattened_list)"
   ]
  },
  {
   "cell_type": "code",
   "execution_count": null,
   "id": "36230e5c-c11f-44e5-b41b-45223f439451",
   "metadata": {},
   "outputs": [],
   "source": [
    "import pickle\n",
    "with open('training_combinations_3.pkl', 'wb') as f:\n",
    "    pickle.dump(flattened_list, f)"
   ]
  },
  {
   "cell_type": "code",
   "execution_count": null,
   "id": "a1b5eba3-8609-45f6-a47b-83999978705f",
   "metadata": {},
   "outputs": [],
   "source": [
    "\n",
    "import cv2\n",
    "\n",
    "# Load the image\n",
    "image = cv2.imread(\"C:\\Users\\91931\\~\\diss\\ECDDATAEMERGENCY\\PLOT_GAUSSIAN_251754_0.png\", cv2.IMREAD_GRAYSCALE)\n",
    "\n",
    "# Apply Gaussian blur to reduce noise\n",
    "blurred = cv2.GaussianBlur(image, (5, 5), 0)\n",
    "\n",
    "# Threshold the image to create a binary image\n",
    "_, thresholded = cv2.threshold(blurred, 100, 255, cv2.THRESH_BINARY)\n",
    "\n",
    "# Find contours in the binary image\n",
    "contours, _ = cv2.findContours(thresholded, cv2.RETR_EXTERNAL, cv2.CHAIN_APPROX_SIMPLE)\n",
    "\n",
    "# Draw contours on the original image\n",
    "image_with_contours = cv2.drawContours(cv2.cvtColor(image, cv2.COLOR_GRAY2BGR), contours, -1, (0, 255, 0), 2)\n",
    "\n",
    "# Count the number of detected contours (glows)\n",
    "num_glows = len(contours)\n",
    "print(\"Number of glows:\", num_glows)\n",
    "\n",
    "# Display the image with detected contours\n",
    "cv2.imshow('Image with Contours', image_with_contours)\n",
    "cv2.waitKey(0)\n",
    "cv2.destroyAllWindows()"
   ]
  },
  {
   "cell_type": "code",
   "execution_count": null,
   "id": "f26cf13b-90f7-42bd-a237-9f326f45def1",
   "metadata": {},
   "outputs": [],
   "source": [
    "import cv2\n",
    "import os\n",
    "def detect_glows(image_path):\n",
    "    # Load the image\n",
    "    image = cv2.imread(image_path, cv2.IMREAD_GRAYSCALE)\n",
    "\n",
    "    # Apply Gaussian blur to reduce noise\n",
    "    blurred = cv2.GaussianBlur(image, (5, 5), 0)\n",
    "\n",
    "    # Threshold the image to create a binary image\n",
    "    _, thresholded = cv2.threshold(blurred, 100, 255, cv2.THRESH_BINARY)\n",
    "\n",
    "    # Find contours in the binary image\n",
    "    contours, _ = cv2.findContours(thresholded, cv2.RETR_EXTERNAL, cv2.CHAIN_APPROX_SIMPLE)\n",
    "\n",
    "    # Draw contours on the original image\n",
    "    image_with_contours = cv2.drawContours(cv2.cvtColor(image, cv2.COLOR_GRAY2BGR), contours, -1, (0, 255, 0), 2)\n",
    "\n",
    "    # Count the number of detected contours (glows)\n",
    "    num_glows = len(contours)\n",
    "    return num_glows\n",
    "\n",
    "# Example usage:\n",
    "root_path=\"C:\\\\Users\\\\91931\\\\~\\\\diss\\\\ECDDATAEMERGENCY\"\n",
    "names = os.listdir(root_path)\n",
    "paths=[os.path.join(root_path,name) for name in names]\n",
    "\n",
    "i=int(0)\n",
    "numberofsites=[]\n",
    "print(\"starting loop\")\n",
    "for path in paths:\n",
    "   if i<10:\n",
    "       print(i)\n",
    "   elif i/1000==0:\n",
    "       print(i/1000)\n",
    "   numberofsites.append(detect_glows(path)) \n",
    "   i+=1"
   ]
  },
  {
   "cell_type": "code",
   "execution_count": null,
   "id": "6ae3b72d-d5b0-46d6-b35f-b9f40215479a",
   "metadata": {},
   "outputs": [],
   "source": [
    "root_path=\"C:\\\\Users\\\\91931\\\\~\\\\diss\\\\ECDGENERATED DATA\"\n",
    "names = os.listdir(root_path)\n",
    "paths=[os.path.join(root_path,name) for name in names]\n",
    "\n",
    "i=int(0)\n",
    "numberofsitesGEN=[]\n",
    "print(\"starting loop\")\n",
    "for path in paths:\n",
    "   if i<10:\n",
    "       print(i)\n",
    "   elif i/1000==0:\n",
    "       print(i/1000)\n",
    "   numberofsitesGEN.append(detect_glows(path)) \n",
    "   i+=1"
   ]
  },
  {
   "cell_type": "code",
   "execution_count": null,
   "id": "4facd362-b222-452e-bcce-e735e2125271",
   "metadata": {
    "scrolled": true
   },
   "outputs": [],
   "source": [
    "print(len(numberofsites))\n",
    "print(len(numberofsitesGEN))"
   ]
  },
  {
   "cell_type": "code",
   "execution_count": null,
   "id": "45fdd2d7-8314-4afd-aeae-0cb4191cb61b",
   "metadata": {
    "scrolled": true
   },
   "outputs": [],
   "source": [
    "import pickle\n",
    "import numpy as np\n",
    "from scipy.stats import gaussian_kde\n",
    "\n",
    "# Paths to the pickled lists\n",
    "paths = [\n",
    "    \"C:\\\\Users\\\\91931\\\\~\\\\diss\\\\training_combinations_1.pkl\",\n",
    "    \"C:\\\\Users\\\\91931\\\\~\\\\diss\\\\training_combinations_2.pkl\",\n",
    "    \"C:\\\\Users\\\\91931\\\\~\\\\diss\\\\training_combinations_3.pkl\"\n",
    "]\n",
    "\n",
    "# Function to calculate density for a list of points\n",
    "import numpy as np\n",
    "\n",
    "def calculate_spread(points):\n",
    "    if len(points) <= 1:\n",
    "        return 0  # Return 0 if there is only one point or no points\n",
    "    \n",
    "    centroid = np.mean(points, axis=0)  # Compute centroid\n",
    "    # Compute distances from each point to the centroid\n",
    "    distances = np.linalg.norm(points - centroid, axis=1)\n",
    "    # Compute standard deviation of distances\n",
    "    spread = np.std(distances)\n",
    "    # print(\"st dev calculated\")\n",
    "    \n",
    "    return spread\n",
    "\n"
   ]
  },
  {
   "cell_type": "code",
   "execution_count": null,
   "id": "c87e1209-3cd0-49b6-899a-7e209d366479",
   "metadata": {},
   "outputs": [],
   "source": [
    "# Combine lists and calculate densities\n",
    "combined_list = []\n",
    "densities = []\n",
    "\n",
    "for path in paths:\n",
    "    with open(path, 'rb') as f:\n",
    "        sublist = pickle.load(f)\n",
    "        print(sublist[0])\n",
    "        print(np.average([len(x) for x in sublist]))\n",
    "        densities.extend([calculate_spread(plane) for plane in sublist])\n",
    "        print(\"one pickled list done\")\n",
    "\n",
    "# Example usage:\n",
    "# Print the first 10 densities\n",
    "print(\"Densities of the first 10 lists:\")\n",
    "print(densities[:10])\n"
   ]
  },
  {
   "cell_type": "code",
   "execution_count": null,
   "id": "acedf845-4585-4f2d-9d0d-25f9441b49a5",
   "metadata": {},
   "outputs": [],
   "source": [
    "len(densities)"
   ]
  },
  {
   "cell_type": "code",
   "execution_count": null,
   "id": "36718bdf-9942-4ba1-a6ee-af972dc96e00",
   "metadata": {},
   "outputs": [],
   "source": [
    "from scipy import stats\n",
    "stats.kstest(numberofsites, numberofsitesGEN)"
   ]
  },
  {
   "cell_type": "code",
   "execution_count": null,
   "id": "b7fba90d-0dde-4c72-99ed-649cd6f52d61",
   "metadata": {},
   "outputs": [],
   "source": []
  },
  {
   "cell_type": "code",
   "execution_count": null,
   "id": "22e4b8f0-0ad6-410d-9bfe-26d56ecf6e02",
   "metadata": {
    "scrolled": true
   },
   "outputs": [],
   "source": []
  },
  {
   "cell_type": "code",
   "execution_count": null,
   "id": "fc1b227c-1261-46c4-a22d-c2028779bd2f",
   "metadata": {
    "scrolled": true
   },
   "outputs": [],
   "source": []
  },
  {
   "cell_type": "code",
   "execution_count": null,
   "id": "9ac82523-4c54-435e-a12e-6a2ddbf6b9af",
   "metadata": {},
   "outputs": [],
   "source": []
  },
  {
   "cell_type": "code",
   "execution_count": null,
   "id": "bb199b07-fb89-45c3-8a90-56e210216ccb",
   "metadata": {
    "scrolled": true
   },
   "outputs": [],
   "source": []
  },
  {
   "cell_type": "code",
   "execution_count": null,
   "id": "931cc9a6-f132-4d07-a389-d42c2a3329dd",
   "metadata": {},
   "outputs": [],
   "source": []
  },
  {
   "cell_type": "code",
   "execution_count": null,
   "id": "16cf92fa-739c-4edf-bf03-8788361499b5",
   "metadata": {
    "scrolled": true
   },
   "outputs": [],
   "source": [
    "# Initialize empty lists to store the extracted values\n",
    "losses = []\n",
    "mses = []\n",
    "rmse = []\n",
    "maes = []\n",
    "\n",
    "# Path to the file containing the output\n",
    "file_path = \"C:\\\\Users\\\\91931\\\\Downloads\\\\efermi test set.txt\" # Replace with the actual file path\n",
    "\n",
    "# Open the file and read lines\n",
    "with open(file_path, \"r\") as file:\n",
    "    for line in file:\n",
    "        parts = line.strip().split(\" - \")  # Strip whitespace and split each line\n",
    "        for part in parts:\n",
    "            if \"loss\" in part:\n",
    "                losses.append(float(part.split(\": \")[1]))\n",
    "            elif \"mean_squared_error\" in part:\n",
    "                mses.append(float(part.split(\": \")[1]))\n",
    "            elif \"root_mean_squared_error\" in part:\n",
    "                rmse.append(float(part.split(\": \")[1]))\n",
    "            elif \"mean_absolute_error\" in part:\n",
    "                maes.append(float(part.split(\": \")[1]))\n",
    "\n",
    "# Print the extracted values\n",
    "print(\"\\n Losses:\", losses)\n",
    "print(\"\\n MSEs:\", mses)\n",
    "print(\"\\n RMSEs:\", rmse)\n",
    "print(\"\\n MAEs:\", maes)\n"
   ]
  },
  {
   "cell_type": "code",
   "execution_count": null,
   "id": "c0e46509-a6a8-43e2-8af7-fb91ea9b1f72",
   "metadata": {},
   "outputs": [],
   "source": [
    "import numpy as np\n",
    "print(np.average(losses))\n",
    "print(np.average(mses))\n",
    "print(np.average(rmse))\n",
    "print(np.average(maes))"
   ]
  },
  {
   "cell_type": "code",
   "execution_count": null,
   "id": "77ae0118-25ef-4081-9b7a-47a2ddd1916d",
   "metadata": {},
   "outputs": [],
   "source": []
  }
 ],
 "metadata": {
  "kernelspec": {
   "display_name": "Python 3 (ipykernel)",
   "language": "python",
   "name": "python3"
  },
  "language_info": {
   "codemirror_mode": {
    "name": "ipython",
    "version": 3
   },
   "file_extension": ".py",
   "mimetype": "text/x-python",
   "name": "python",
   "nbconvert_exporter": "python",
   "pygments_lexer": "ipython3",
   "version": "3.11.7"
  }
 },
 "nbformat": 4,
 "nbformat_minor": 5
}
