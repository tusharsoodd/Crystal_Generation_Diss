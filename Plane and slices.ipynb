{
 "cells": [
  {
   "cell_type": "code",
   "execution_count": null,
   "id": "51dda67a-8bc1-4f60-903f-f459f2bc4cac",
   "metadata": {},
   "outputs": [],
   "source": [
    "import pandas as pd\n",
    "import matplotlib.pyplot as plt\n",
    "import seaborn as sns\n",
    "from mp_api.client import MPRester"
   ]
  },
  {
   "cell_type": "code",
   "execution_count": null,
   "id": "3e7bb595-12fb-4dc0-ab86-01f8661d05ec",
   "metadata": {},
   "outputs": [],
   "source": [
    "with MPRester(\"jS4ST5fsFePAWwMurwaUh5FRcfXmgdA3\") as mpr:\n",
    "    list_of_available_fields = mpr.summary.available_fields\n",
    "    print(list_of_available_fields)\n",
    "    mp_1077102 = mpr.summary.search(material_ids=[\"mp-1055985\"], fields=[\"structure\"])"
   ]
  },
  {
   "cell_type": "code",
   "execution_count": null,
   "id": "52faa06d-befd-42ca-b020-766d50cf5ce3",
   "metadata": {},
   "outputs": [],
   "source": [
    "import pymatgen.core.structure\n",
    "\n",
    "# Assuming doc is your MPDataDoc<SummaryDoc> object\n",
    "structure = mp_1077102[0].structure  # Replace 'structure' with the actual attribute name\n",
    "print(structure)\n",
    "print(type(structure))"
   ]
  },
  {
   "cell_type": "code",
   "execution_count": null,
   "id": "ed339842-e6b2-4981-be08-7867b0f01b09",
   "metadata": {},
   "outputs": [],
   "source": [
    "from pymatgen.core.structure import Structure\n",
    "from pymatgen.analysis.chemenv.coordination_environments.coordination_geometry_finder import LocalGeometryFinder\n",
    "from pymatgen.analysis.chemenv.coordination_environments.chemenv_strategies import SimplestChemenvStrategy\n",
    "import numpy as np\n",
    "\n",
    "# Choose a reference atom index (replace this with your desired reference atom)\n",
    "reference_atom_index = 0\n",
    "print(0)\n",
    "# Use LocalGeometryFinder to get the coordination environment around the reference atom\n",
    "lgf = LocalGeometryFinder()\n",
    "lgf.setup_structure(structure)\n",
    "print(1)\n",
    "strategy = SimplestChemenvStrategy(distance_cutoff=1.4, angle_cutoff=0.3)\n",
    "print(2)\n"
   ]
  },
  {
   "cell_type": "code",
   "execution_count": null,
   "id": "169f4d94-1a5f-4987-825b-fef1c765d20a",
   "metadata": {},
   "outputs": [],
   "source": [
    "try:\n",
    "    se = lgf.compute_structure_environments(maximum_distance_factor=2, only_cations=True)\n",
    "except Exception as e:\n",
    "    print(f\"Error: {e}\")\n",
    "    \n",
    "print(3)\n",
    "coordination_environments = se.get_site_coordination_environments(reference_atom_index)\n",
    "print(4)\n",
    "\n",
    "# Pick three neighboring atoms to define the plane\n",
    "if len(coordination_environments) >= 3:\n",
    "    # Choose the first three coordination environments\n",
    "    points = [env[0].coords for env in coordination_environments[:3]]\n",
    "    \n",
    "    # Calculate vectors between points\n",
    "    vectors = np.array(points) - np.array(points[0])\n",
    "    \n",
    "    # Calculate the normal vector to the plane formed by the three points\n",
    "    normal_vector = np.cross(vectors[1], vectors[2])\n",
    "    \n",
    "    print(\"Points:\", points)\n",
    "    print(\"Normal Vector:\", normal_vector)\n",
    "else:\n",
    "    print(\"Not enough neighboring atoms to define a plane.\")\n"
   ]
  },
  {
   "cell_type": "code",
   "execution_count": null,
   "id": "c230cfd3-781c-4805-a742-fd8b1cbd74db",
   "metadata": {},
   "outputs": [],
   "source": [
    "import numpy as np\n",
    "import matplotlib.pyplot as plt\n",
    "\n",
    "def create_glowing_plane(width, height, points):\n",
    "    plane = np.zeros((height, width))\n",
    "\n",
    "    for point in points:\n",
    "        x, y = point\n",
    "        sigma = 30  # Adjust the standard deviation to control the spread of the glow\n",
    "        A = 1 / (2 * np.pi * sigma**2)\n",
    "        \n",
    "        for i in range(height):\n",
    "            for j in range(width):\n",
    "                distance_squared = (j - x)**2 + (i - y)**2\n",
    "                falloff = np.exp(-distance_squared / (2 * sigma**2))\n",
    "                plane[i, j] += A * falloff\n",
    "\n",
    "    # Normalize the values\n",
    "    plane /= np.max(plane)\n",
    "\n",
    "    return plane\n",
    "\n",
    "# Example usage:\n",
    "width, height = 500, 500\n",
    "points_of_interest = [(100, 100), (300, 300)]\n",
    "\n",
    "glowing_plane = create_glowing_plane(width, height, points_of_interest)\n",
    "\n",
    "plt.imshow(glowing_plane, cmap='hot', origin='lower')\n",
    "plt.colorbar()\n",
    "plt.show()\n"
   ]
  },
  {
   "cell_type": "code",
   "execution_count": null,
   "id": "a4e157e9-06bf-465c-a9c2-72789a27a443",
   "metadata": {},
   "outputs": [],
   "source": []
  }
 ],
 "metadata": {
  "kernelspec": {
   "display_name": "Python 3 (ipykernel)",
   "language": "python",
   "name": "python3"
  },
  "language_info": {
   "codemirror_mode": {
    "name": "ipython",
    "version": 3
   },
   "file_extension": ".py",
   "mimetype": "text/x-python",
   "name": "python",
   "nbconvert_exporter": "python",
   "pygments_lexer": "ipython3",
   "version": "3.11.7"
  }
 },
 "nbformat": 4,
 "nbformat_minor": 5
}
